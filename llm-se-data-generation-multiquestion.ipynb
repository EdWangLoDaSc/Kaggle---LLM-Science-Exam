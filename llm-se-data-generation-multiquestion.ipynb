{
 "cells": [
  {
   "cell_type": "code",
   "execution_count": 1,
   "id": "c8aea3ce",
   "metadata": {
    "_cell_guid": "b1076dfc-b9ad-4769-8c92-a6c4dae69d19",
    "_uuid": "8f2839f25d086af736a60e9eeb907d3b93b6e0e5",
    "execution": {
     "iopub.execute_input": "2023-09-30T09:33:23.789912Z",
     "iopub.status.busy": "2023-09-30T09:33:23.788825Z",
     "iopub.status.idle": "2023-09-30T09:33:50.810106Z",
     "shell.execute_reply": "2023-09-30T09:33:50.808823Z"
    },
    "papermill": {
     "duration": 27.031278,
     "end_time": "2023-09-30T09:33:50.812245",
     "exception": false,
     "start_time": "2023-09-30T09:33:23.780967",
     "status": "completed"
    },
    "tags": []
   },
   "outputs": [],
   "source": [
    "!pip install openai langchain tiktoken -q"
   ]
  },
  {
   "cell_type": "code",
   "execution_count": 2,
   "id": "20bbecc1",
   "metadata": {
    "execution": {
     "iopub.execute_input": "2023-09-30T09:33:50.822597Z",
     "iopub.status.busy": "2023-09-30T09:33:50.822319Z",
     "iopub.status.idle": "2023-09-30T09:33:50.826714Z",
     "shell.execute_reply": "2023-09-30T09:33:50.825420Z"
    },
    "papermill": {
     "duration": 0.011689,
     "end_time": "2023-09-30T09:33:50.828546",
     "exception": false,
     "start_time": "2023-09-30T09:33:50.816857",
     "status": "completed"
    },
    "tags": []
   },
   "outputs": [],
   "source": [
    "import os\n",
    "import pandas as pd"
   ]
  },
  {
   "cell_type": "code",
   "execution_count": 3,
   "id": "461dff53",
   "metadata": {
    "execution": {
     "iopub.execute_input": "2023-09-30T09:33:50.840247Z",
     "iopub.status.busy": "2023-09-30T09:33:50.838940Z",
     "iopub.status.idle": "2023-09-30T09:33:51.010512Z",
     "shell.execute_reply": "2023-09-30T09:33:51.009509Z"
    },
    "papermill": {
     "duration": 0.179519,
     "end_time": "2023-09-30T09:33:51.012508",
     "exception": false,
     "start_time": "2023-09-30T09:33:50.832989",
     "status": "completed"
    },
    "tags": []
   },
   "outputs": [],
   "source": [
    "from kaggle_secrets import UserSecretsClient\n",
    "user_secrets = UserSecretsClient()\n",
    "os.environ[\"OPENAI_API_KEY\"] = user_secrets.get_secret(\"openai\")"
   ]
  },
  {
   "cell_type": "code",
   "execution_count": 4,
   "id": "ff4a8249",
   "metadata": {
    "execution": {
     "iopub.execute_input": "2023-09-30T09:33:51.023189Z",
     "iopub.status.busy": "2023-09-30T09:33:51.022616Z",
     "iopub.status.idle": "2023-09-30T09:33:52.907987Z",
     "shell.execute_reply": "2023-09-30T09:33:52.906386Z"
    },
    "papermill": {
     "duration": 1.893046,
     "end_time": "2023-09-30T09:33:52.910205",
     "exception": false,
     "start_time": "2023-09-30T09:33:51.017159",
     "status": "completed"
    },
    "tags": []
   },
   "outputs": [],
   "source": [
    "from langchain.chat_models import ChatOpenAI\n",
    "from langchain.prompts import ChatPromptTemplate\n",
    "from langchain.chains import LLMChain"
   ]
  },
  {
   "cell_type": "code",
   "execution_count": 5,
   "id": "acf666d7",
   "metadata": {
    "execution": {
     "iopub.execute_input": "2023-09-30T09:33:52.921651Z",
     "iopub.status.busy": "2023-09-30T09:33:52.920328Z",
     "iopub.status.idle": "2023-09-30T09:33:52.924793Z",
     "shell.execute_reply": "2023-09-30T09:33:52.923796Z"
    },
    "papermill": {
     "duration": 0.01183,
     "end_time": "2023-09-30T09:33:52.926904",
     "exception": false,
     "start_time": "2023-09-30T09:33:52.915074",
     "status": "completed"
    },
    "tags": []
   },
   "outputs": [],
   "source": [
    "from langchain.output_parsers import ResponseSchema\n",
    "from langchain.output_parsers import StructuredOutputParser"
   ]
  },
  {
   "cell_type": "code",
   "execution_count": 6,
   "id": "3396ceb0",
   "metadata": {
    "execution": {
     "iopub.execute_input": "2023-09-30T09:33:52.937934Z",
     "iopub.status.busy": "2023-09-30T09:33:52.937031Z",
     "iopub.status.idle": "2023-09-30T09:33:52.942333Z",
     "shell.execute_reply": "2023-09-30T09:33:52.941384Z"
    },
    "papermill": {
     "duration": 0.012716,
     "end_time": "2023-09-30T09:33:52.944435",
     "exception": false,
     "start_time": "2023-09-30T09:33:52.931719",
     "status": "completed"
    },
    "tags": []
   },
   "outputs": [],
   "source": [
    "from langchain.text_splitter import RecursiveCharacterTextSplitter"
   ]
  },
  {
   "cell_type": "code",
   "execution_count": 7,
   "id": "fc8878ea",
   "metadata": {
    "execution": {
     "iopub.execute_input": "2023-09-30T09:33:52.956855Z",
     "iopub.status.busy": "2023-09-30T09:33:52.955946Z",
     "iopub.status.idle": "2023-09-30T09:33:52.981786Z",
     "shell.execute_reply": "2023-09-30T09:33:52.980650Z"
    },
    "papermill": {
     "duration": 0.033921,
     "end_time": "2023-09-30T09:33:52.983886",
     "exception": false,
     "start_time": "2023-09-30T09:33:52.949965",
     "status": "completed"
    },
    "tags": []
   },
   "outputs": [],
   "source": [
    "import tiktoken"
   ]
  },
  {
   "cell_type": "code",
   "execution_count": 8,
   "id": "5de1872c",
   "metadata": {
    "execution": {
     "iopub.execute_input": "2023-09-30T09:33:52.994020Z",
     "iopub.status.busy": "2023-09-30T09:33:52.993735Z",
     "iopub.status.idle": "2023-09-30T09:33:53.072586Z",
     "shell.execute_reply": "2023-09-30T09:33:53.071169Z"
    },
    "papermill": {
     "duration": 0.086489,
     "end_time": "2023-09-30T09:33:53.074982",
     "exception": false,
     "start_time": "2023-09-30T09:33:52.988493",
     "status": "completed"
    },
    "tags": []
   },
   "outputs": [],
   "source": [
    "from tqdm.auto import tqdm"
   ]
  },
  {
   "cell_type": "code",
   "execution_count": 9,
   "id": "fbd0e33b",
   "metadata": {
    "execution": {
     "iopub.execute_input": "2023-09-30T09:33:53.085582Z",
     "iopub.status.busy": "2023-09-30T09:33:53.085168Z",
     "iopub.status.idle": "2023-09-30T09:33:53.090105Z",
     "shell.execute_reply": "2023-09-30T09:33:53.089234Z"
    },
    "papermill": {
     "duration": 0.012584,
     "end_time": "2023-09-30T09:33:53.092336",
     "exception": false,
     "start_time": "2023-09-30T09:33:53.079752",
     "status": "completed"
    },
    "tags": []
   },
   "outputs": [],
   "source": [
    "def num_tokens_from_string(string: str, encoding_name: str=\"gpt-3.5-turbo\") -> int:\n",
    "    \"\"\"Returns the number of tokens in a text string.\"\"\"\n",
    "    encoding = tiktoken.encoding_for_model(encoding_name)\n",
    "    num_tokens = len(encoding.encode(string))\n",
    "    return num_tokens"
   ]
  },
  {
   "cell_type": "code",
   "execution_count": 10,
   "id": "e1bd4509",
   "metadata": {
    "execution": {
     "iopub.execute_input": "2023-09-30T09:33:53.103195Z",
     "iopub.status.busy": "2023-09-30T09:33:53.102890Z",
     "iopub.status.idle": "2023-09-30T09:33:53.107550Z",
     "shell.execute_reply": "2023-09-30T09:33:53.106209Z"
    },
    "papermill": {
     "duration": 0.012018,
     "end_time": "2023-09-30T09:33:53.109172",
     "exception": false,
     "start_time": "2023-09-30T09:33:53.097154",
     "status": "completed"
    },
    "tags": []
   },
   "outputs": [],
   "source": [
    "def truncate_text_by_token(string: str, limit: int=3000, encoding_name: str=\"gpt-3.5-turbo\") -> int:\n",
    "    \"\"\"Returns the number of tokens in a text string.\"\"\"\n",
    "    encoding = tiktoken.encoding_for_model(encoding_name)\n",
    "    tokens = encoding.encode(string)[:limit]\n",
    "    text = encoding.decode(tokens)\n",
    "    return text"
   ]
  },
  {
   "cell_type": "code",
   "execution_count": 11,
   "id": "1a71a69a",
   "metadata": {
    "execution": {
     "iopub.execute_input": "2023-09-30T09:33:53.119644Z",
     "iopub.status.busy": "2023-09-30T09:33:53.119368Z",
     "iopub.status.idle": "2023-09-30T09:33:53.131912Z",
     "shell.execute_reply": "2023-09-30T09:33:53.131257Z"
    },
    "papermill": {
     "duration": 0.019799,
     "end_time": "2023-09-30T09:33:53.133718",
     "exception": false,
     "start_time": "2023-09-30T09:33:53.113919",
     "status": "completed"
    },
    "tags": []
   },
   "outputs": [],
   "source": [
    "# output token max to 500\n",
    "chat = ChatOpenAI(temperature=0.75, request_timeout=600, max_tokens=1200, max_retries=1)"
   ]
  },
  {
   "cell_type": "code",
   "execution_count": 12,
   "id": "e818f11d",
   "metadata": {
    "execution": {
     "iopub.execute_input": "2023-09-30T09:33:53.144734Z",
     "iopub.status.busy": "2023-09-30T09:33:53.143635Z",
     "iopub.status.idle": "2023-09-30T09:33:53.148067Z",
     "shell.execute_reply": "2023-09-30T09:33:53.147309Z"
    },
    "papermill": {
     "duration": 0.011605,
     "end_time": "2023-09-30T09:33:53.150020",
     "exception": false,
     "start_time": "2023-09-30T09:33:53.138415",
     "status": "completed"
    },
    "tags": []
   },
   "outputs": [],
   "source": [
    "debug=False"
   ]
  },
  {
   "cell_type": "code",
   "execution_count": 13,
   "id": "d2894ebb",
   "metadata": {
    "execution": {
     "iopub.execute_input": "2023-09-30T09:33:53.160673Z",
     "iopub.status.busy": "2023-09-30T09:33:53.160118Z",
     "iopub.status.idle": "2023-09-30T09:34:06.261676Z",
     "shell.execute_reply": "2023-09-30T09:34:06.260818Z"
    },
    "papermill": {
     "duration": 13.109032,
     "end_time": "2023-09-30T09:34:06.263603",
     "exception": false,
     "start_time": "2023-09-30T09:33:53.154571",
     "status": "completed"
    },
    "tags": []
   },
   "outputs": [],
   "source": [
    "df = pd.read_parquet('/kaggle/input/wikipedia-stem-plaintext/parsed.parquet')\n",
    "df['id'] = range(len(df))"
   ]
  },
  {
   "cell_type": "code",
   "execution_count": 14,
   "id": "9acb5988",
   "metadata": {
    "execution": {
     "iopub.execute_input": "2023-09-30T09:34:06.274760Z",
     "iopub.status.busy": "2023-09-30T09:34:06.273772Z",
     "iopub.status.idle": "2023-09-30T09:34:13.947659Z",
     "shell.execute_reply": "2023-09-30T09:34:13.946441Z"
    },
    "papermill": {
     "duration": 7.681767,
     "end_time": "2023-09-30T09:34:13.950072",
     "exception": false,
     "start_time": "2023-09-30T09:34:06.268305",
     "status": "completed"
    },
    "tags": []
   },
   "outputs": [],
   "source": [
    "df = df.groupby(['title']).sample(1,random_state=100).sample(3000, random_state=100).reset_index(drop=True)"
   ]
  },
  {
   "cell_type": "code",
   "execution_count": 15,
   "id": "2199c438",
   "metadata": {
    "execution": {
     "iopub.execute_input": "2023-09-30T09:34:13.962670Z",
     "iopub.status.busy": "2023-09-30T09:34:13.962308Z",
     "iopub.status.idle": "2023-09-30T09:34:13.966769Z",
     "shell.execute_reply": "2023-09-30T09:34:13.965823Z"
    },
    "papermill": {
     "duration": 0.012828,
     "end_time": "2023-09-30T09:34:13.968496",
     "exception": false,
     "start_time": "2023-09-30T09:34:13.955668",
     "status": "completed"
    },
    "tags": []
   },
   "outputs": [],
   "source": [
    "#df['id'] = -1"
   ]
  },
  {
   "cell_type": "code",
   "execution_count": 16,
   "id": "7adc980c",
   "metadata": {
    "execution": {
     "iopub.execute_input": "2023-09-30T09:34:13.979140Z",
     "iopub.status.busy": "2023-09-30T09:34:13.978807Z",
     "iopub.status.idle": "2023-09-30T09:34:14.000282Z",
     "shell.execute_reply": "2023-09-30T09:34:13.999156Z"
    },
    "papermill": {
     "duration": 0.029562,
     "end_time": "2023-09-30T09:34:14.002629",
     "exception": false,
     "start_time": "2023-09-30T09:34:13.973067",
     "status": "completed"
    },
    "tags": []
   },
   "outputs": [
    {
     "data": {
      "text/html": [
       "<div>\n",
       "<style scoped>\n",
       "    .dataframe tbody tr th:only-of-type {\n",
       "        vertical-align: middle;\n",
       "    }\n",
       "\n",
       "    .dataframe tbody tr th {\n",
       "        vertical-align: top;\n",
       "    }\n",
       "\n",
       "    .dataframe thead th {\n",
       "        text-align: right;\n",
       "    }\n",
       "</style>\n",
       "<table border=\"1\" class=\"dataframe\">\n",
       "  <thead>\n",
       "    <tr style=\"text-align: right;\">\n",
       "      <th></th>\n",
       "      <th>title</th>\n",
       "      <th>section</th>\n",
       "      <th>text</th>\n",
       "      <th>id</th>\n",
       "    </tr>\n",
       "  </thead>\n",
       "  <tbody>\n",
       "    <tr>\n",
       "      <th>0</th>\n",
       "      <td>Log sum inequality</td>\n",
       "      <td>Log sum inequality</td>\n",
       "      <td>The log sum inequality is used for proving the...</td>\n",
       "      <td>1103246</td>\n",
       "    </tr>\n",
       "    <tr>\n",
       "      <th>1</th>\n",
       "      <td>Low-voltage detect</td>\n",
       "      <td>Low-voltage detect</td>\n",
       "      <td>A low-voltage detect (LVD) is a microcontrolle...</td>\n",
       "      <td>1113000</td>\n",
       "    </tr>\n",
       "    <tr>\n",
       "      <th>2</th>\n",
       "      <td>Gradshteyn and Ryzhik</td>\n",
       "      <td>History</td>\n",
       "      <td>The work was originally compiled by the Russia...</td>\n",
       "      <td>810758</td>\n",
       "    </tr>\n",
       "    <tr>\n",
       "      <th>3</th>\n",
       "      <td>Reactive planning</td>\n",
       "      <td>Reactive plan representation</td>\n",
       "      <td>Condition-action rules (productions) A conditi...</td>\n",
       "      <td>1569278</td>\n",
       "    </tr>\n",
       "    <tr>\n",
       "      <th>4</th>\n",
       "      <td>CDIO Initiative</td>\n",
       "      <td>Sources</td>\n",
       "      <td>Edward Crawley; Johan Malmqvist; Sören Östlund...</td>\n",
       "      <td>265010</td>\n",
       "    </tr>\n",
       "    <tr>\n",
       "      <th>...</th>\n",
       "      <td>...</td>\n",
       "      <td>...</td>\n",
       "      <td>...</td>\n",
       "      <td>...</td>\n",
       "    </tr>\n",
       "    <tr>\n",
       "      <th>2995</th>\n",
       "      <td>Jacobs Vehicle Systems</td>\n",
       "      <td>How A Jake Brake Works</td>\n",
       "      <td>A “Jake Brake” is an engine compression releas...</td>\n",
       "      <td>1004207</td>\n",
       "    </tr>\n",
       "    <tr>\n",
       "      <th>2996</th>\n",
       "      <td>Camshaft</td>\n",
       "      <td>Piston engines</td>\n",
       "      <td>Alternative drive systems used in the past inc...</td>\n",
       "      <td>281776</td>\n",
       "    </tr>\n",
       "    <tr>\n",
       "      <th>2997</th>\n",
       "      <td>Quantum microscopy</td>\n",
       "      <td>Photoionization</td>\n",
       "      <td>In 2013, Aneta Stodolna and colleagues imaged ...</td>\n",
       "      <td>1538091</td>\n",
       "    </tr>\n",
       "    <tr>\n",
       "      <th>2998</th>\n",
       "      <td>Nelson Diversity Surveys</td>\n",
       "      <td>Methodology</td>\n",
       "      <td>The NDS were funded by Nelson, the Sloan Found...</td>\n",
       "      <td>1275997</td>\n",
       "    </tr>\n",
       "    <tr>\n",
       "      <th>2999</th>\n",
       "      <td>Synthetic-aperture magnetometry</td>\n",
       "      <td>Synthetic-aperture magnetometry</td>\n",
       "      <td>Synthetic-aperture magnetometry (SAM) is a met...</td>\n",
       "      <td>1843992</td>\n",
       "    </tr>\n",
       "  </tbody>\n",
       "</table>\n",
       "<p>3000 rows × 4 columns</p>\n",
       "</div>"
      ],
      "text/plain": [
       "                                title                          section  \\\n",
       "0                  Log sum inequality               Log sum inequality   \n",
       "1                  Low-voltage detect               Low-voltage detect   \n",
       "2               Gradshteyn and Ryzhik                          History   \n",
       "3                   Reactive planning     Reactive plan representation   \n",
       "4                     CDIO Initiative                          Sources   \n",
       "...                               ...                              ...   \n",
       "2995           Jacobs Vehicle Systems           How A Jake Brake Works   \n",
       "2996                         Camshaft                   Piston engines   \n",
       "2997               Quantum microscopy                  Photoionization   \n",
       "2998         Nelson Diversity Surveys                      Methodology   \n",
       "2999  Synthetic-aperture magnetometry  Synthetic-aperture magnetometry   \n",
       "\n",
       "                                                   text       id  \n",
       "0     The log sum inequality is used for proving the...  1103246  \n",
       "1     A low-voltage detect (LVD) is a microcontrolle...  1113000  \n",
       "2     The work was originally compiled by the Russia...   810758  \n",
       "3     Condition-action rules (productions) A conditi...  1569278  \n",
       "4     Edward Crawley; Johan Malmqvist; Sören Östlund...   265010  \n",
       "...                                                 ...      ...  \n",
       "2995  A “Jake Brake” is an engine compression releas...  1004207  \n",
       "2996  Alternative drive systems used in the past inc...   281776  \n",
       "2997  In 2013, Aneta Stodolna and colleagues imaged ...  1538091  \n",
       "2998  The NDS were funded by Nelson, the Sloan Found...  1275997  \n",
       "2999  Synthetic-aperture magnetometry (SAM) is a met...  1843992  \n",
       "\n",
       "[3000 rows x 4 columns]"
      ]
     },
     "execution_count": 16,
     "metadata": {},
     "output_type": "execute_result"
    }
   ],
   "source": [
    "df"
   ]
  },
  {
   "cell_type": "code",
   "execution_count": 17,
   "id": "1220b8cb",
   "metadata": {
    "execution": {
     "iopub.execute_input": "2023-09-30T09:34:14.015489Z",
     "iopub.status.busy": "2023-09-30T09:34:14.015123Z",
     "iopub.status.idle": "2023-09-30T09:34:14.020536Z",
     "shell.execute_reply": "2023-09-30T09:34:14.018942Z"
    },
    "papermill": {
     "duration": 0.015737,
     "end_time": "2023-09-30T09:34:14.023473",
     "exception": false,
     "start_time": "2023-09-30T09:34:14.007736",
     "status": "completed"
    },
    "tags": []
   },
   "outputs": [],
   "source": [
    "doc_ids = df.id.tolist()"
   ]
  },
  {
   "cell_type": "code",
   "execution_count": 18,
   "id": "9b23bb51",
   "metadata": {
    "execution": {
     "iopub.execute_input": "2023-09-30T09:34:14.036490Z",
     "iopub.status.busy": "2023-09-30T09:34:14.036145Z",
     "iopub.status.idle": "2023-09-30T09:34:14.040602Z",
     "shell.execute_reply": "2023-09-30T09:34:14.039618Z"
    },
    "papermill": {
     "duration": 0.014984,
     "end_time": "2023-09-30T09:34:14.043592",
     "exception": false,
     "start_time": "2023-09-30T09:34:14.028608",
     "status": "completed"
    },
    "tags": []
   },
   "outputs": [],
   "source": [
    "texts = df.text.tolist()"
   ]
  },
  {
   "cell_type": "code",
   "execution_count": 19,
   "id": "840cbf3b",
   "metadata": {
    "execution": {
     "iopub.execute_input": "2023-09-30T09:34:14.056038Z",
     "iopub.status.busy": "2023-09-30T09:34:14.055723Z",
     "iopub.status.idle": "2023-09-30T09:34:14.060821Z",
     "shell.execute_reply": "2023-09-30T09:34:14.059346Z"
    },
    "papermill": {
     "duration": 0.013411,
     "end_time": "2023-09-30T09:34:14.062759",
     "exception": false,
     "start_time": "2023-09-30T09:34:14.049348",
     "status": "completed"
    },
    "tags": []
   },
   "outputs": [],
   "source": [
    "response_keys_set = set((\"prompt\", \"A\", \"B\", \"C\", \"D\", \"E\", \"answer\"))"
   ]
  },
  {
   "cell_type": "code",
   "execution_count": 20,
   "id": "f368887c",
   "metadata": {
    "execution": {
     "iopub.execute_input": "2023-09-30T09:34:14.075097Z",
     "iopub.status.busy": "2023-09-30T09:34:14.074796Z",
     "iopub.status.idle": "2023-09-30T09:34:14.083174Z",
     "shell.execute_reply": "2023-09-30T09:34:14.081550Z"
    },
    "papermill": {
     "duration": 0.016504,
     "end_time": "2023-09-30T09:34:14.085118",
     "exception": false,
     "start_time": "2023-09-30T09:34:14.068614",
     "status": "completed"
    },
    "tags": []
   },
   "outputs": [],
   "source": [
    "template_string = \"\"\"\n",
    "You will be provided with TEXT from wikipedia. \\\n",
    "The TEXT will be delimited with ### characters.\n",
    "### TEXT begin\n",
    "{text}\n",
    "### TEXT end\n",
    "Output a python list of {q_num} dict objects, where each object is \\\n",
    "a multiple choice question whom answers should be in \\\n",
    "the given TEXT and that has 5 choices each and has the following format:\n",
    "    'prompt': <question on the TEXT>\n",
    "    'A': <question answer option>\n",
    "    'B': <question answer option>\n",
    "    'C': <question answer option>\n",
    "    'D': <question answer option>\n",
    "    'E': <question answer option>\n",
    "    'answer': <answer option key label>\n",
    "\n",
    "You should tell me which one of your proposed options is right \\\n",
    "by assigning the corresponding option's key label in the 'answer' field.\n",
    "\n",
    "The question and the answer options should be challenging, \\\n",
    "more about statements, description.\n",
    "\n",
    "The answer do not require the given TEXT and should be LONGER enough!\n",
    "\"\"\""
   ]
  },
  {
   "cell_type": "code",
   "execution_count": 21,
   "id": "06fe76db",
   "metadata": {
    "execution": {
     "iopub.execute_input": "2023-09-30T09:34:14.096008Z",
     "iopub.status.busy": "2023-09-30T09:34:14.095704Z",
     "iopub.status.idle": "2023-09-30T09:34:14.100290Z",
     "shell.execute_reply": "2023-09-30T09:34:14.099071Z"
    },
    "papermill": {
     "duration": 0.011997,
     "end_time": "2023-09-30T09:34:14.101897",
     "exception": false,
     "start_time": "2023-09-30T09:34:14.089900",
     "status": "completed"
    },
    "tags": []
   },
   "outputs": [],
   "source": [
    "prompt_template = ChatPromptTemplate.from_template(template_string)"
   ]
  },
  {
   "cell_type": "code",
   "execution_count": 22,
   "id": "953d8f25",
   "metadata": {
    "execution": {
     "iopub.execute_input": "2023-09-30T09:34:14.113067Z",
     "iopub.status.busy": "2023-09-30T09:34:14.112728Z",
     "iopub.status.idle": "2023-09-30T09:34:14.118005Z",
     "shell.execute_reply": "2023-09-30T09:34:14.116681Z"
    },
    "papermill": {
     "duration": 0.013682,
     "end_time": "2023-09-30T09:34:14.120604",
     "exception": false,
     "start_time": "2023-09-30T09:34:14.106922",
     "status": "completed"
    },
    "tags": []
   },
   "outputs": [],
   "source": [
    "chain = LLMChain(llm=chat, prompt=prompt_template)"
   ]
  },
  {
   "cell_type": "code",
   "execution_count": 23,
   "id": "024e8924",
   "metadata": {
    "execution": {
     "iopub.execute_input": "2023-09-30T09:34:14.134332Z",
     "iopub.status.busy": "2023-09-30T09:34:14.133961Z",
     "iopub.status.idle": "2023-09-30T09:34:14.138724Z",
     "shell.execute_reply": "2023-09-30T09:34:14.136871Z"
    },
    "papermill": {
     "duration": 0.015164,
     "end_time": "2023-09-30T09:34:14.140934",
     "exception": false,
     "start_time": "2023-09-30T09:34:14.125770",
     "status": "completed"
    },
    "tags": []
   },
   "outputs": [],
   "source": [
    "if debug:\n",
    "    texts = texts[:20] "
   ]
  },
  {
   "cell_type": "code",
   "execution_count": 24,
   "id": "3bb7628e",
   "metadata": {
    "execution": {
     "iopub.execute_input": "2023-09-30T09:34:14.153571Z",
     "iopub.status.busy": "2023-09-30T09:34:14.153243Z",
     "iopub.status.idle": "2023-09-30T09:34:14.157673Z",
     "shell.execute_reply": "2023-09-30T09:34:14.156389Z"
    },
    "papermill": {
     "duration": 0.012621,
     "end_time": "2023-09-30T09:34:14.159627",
     "exception": false,
     "start_time": "2023-09-30T09:34:14.147006",
     "status": "completed"
    },
    "tags": []
   },
   "outputs": [],
   "source": [
    "# split each text to 3000 token chunks, each chunk generate 1 question\n",
    "# change this if for your vary len texts\n",
    "text_splitter = RecursiveCharacterTextSplitter(\n",
    "    chunk_size = 3000,\n",
    "    chunk_overlap  = 0,\n",
    "    length_function = num_tokens_from_string)"
   ]
  },
  {
   "cell_type": "code",
   "execution_count": 25,
   "id": "82c416af",
   "metadata": {
    "execution": {
     "iopub.execute_input": "2023-09-30T09:34:14.170520Z",
     "iopub.status.busy": "2023-09-30T09:34:14.170189Z",
     "iopub.status.idle": "2023-09-30T09:34:14.175431Z",
     "shell.execute_reply": "2023-09-30T09:34:14.174360Z"
    },
    "papermill": {
     "duration": 0.012851,
     "end_time": "2023-09-30T09:34:14.177309",
     "exception": false,
     "start_time": "2023-09-30T09:34:14.164458",
     "status": "completed"
    },
    "tags": []
   },
   "outputs": [],
   "source": [
    "def is_valid_question(r):\n",
    "    return (response_keys_set == set(list(r.keys()))) and all([isinstance(v, str) and len(v)>0 for k,v in r.items()]) and (r['answer'] in [\"A\", \"B\", \"C\", \"D\", \"E\"])"
   ]
  },
  {
   "cell_type": "code",
   "execution_count": 26,
   "id": "be09cb4e",
   "metadata": {
    "execution": {
     "iopub.execute_input": "2023-09-30T09:34:14.188632Z",
     "iopub.status.busy": "2023-09-30T09:34:14.188027Z",
     "iopub.status.idle": "2023-09-30T09:34:14.193530Z",
     "shell.execute_reply": "2023-09-30T09:34:14.192691Z"
    },
    "papermill": {
     "duration": 0.012923,
     "end_time": "2023-09-30T09:34:14.195059",
     "exception": false,
     "start_time": "2023-09-30T09:34:14.182136",
     "status": "completed"
    },
    "tags": []
   },
   "outputs": [],
   "source": [
    "def select_correct_formatted_questions(r):\n",
    "    res_q = []\n",
    "    for rr in r:\n",
    "        if is_valid_question(rr):\n",
    "            res_q.append(rr)\n",
    "    return res_q"
   ]
  },
  {
   "cell_type": "code",
   "execution_count": 27,
   "id": "b4d73108",
   "metadata": {
    "execution": {
     "iopub.execute_input": "2023-09-30T09:34:14.206610Z",
     "iopub.status.busy": "2023-09-30T09:34:14.206240Z",
     "iopub.status.idle": "2023-09-30T09:34:14.212033Z",
     "shell.execute_reply": "2023-09-30T09:34:14.211507Z"
    },
    "papermill": {
     "duration": 0.013645,
     "end_time": "2023-09-30T09:34:14.213947",
     "exception": false,
     "start_time": "2023-09-30T09:34:14.200302",
     "status": "completed"
    },
    "tags": []
   },
   "outputs": [],
   "source": [
    "def gather_multiple_choice_question_dataset(doc_ids, texts, text_splitter, q_num=1, max_attempts=1):\n",
    "    multiple_choice_questions = []\n",
    "    for doc_id, text in tqdm(zip(doc_ids, texts), total=len(texts)):\n",
    "        k = 0\n",
    "        for text_chunk in text_splitter.create_documents([text]):\n",
    "            \n",
    "            if k>=1:\n",
    "                break\n",
    "            \n",
    "            attempts_cnt = 0\n",
    "            while True:\n",
    "                try:\n",
    "                    response = chain.run(text=text_chunk, q_num=q_num)\n",
    "                    mcq = eval(response)\n",
    "                    if not isinstance(mcq, list) or len(mcq) == 0:\n",
    "                        raise Exception\n",
    "                    output = select_correct_formatted_questions(mcq)\n",
    "                    if len(output) == 0:\n",
    "                        raise Exception\n",
    "                    for d in output:\n",
    "                        d['doc_id'] = doc_id\n",
    "                    multiple_choice_questions.extend(output)\n",
    "                    k+=1\n",
    "                    break\n",
    "                except Exception:\n",
    "                    attempts_cnt += 1\n",
    "                    if attempts_cnt >= max_attempts:\n",
    "                        break\n",
    "                        \n",
    "    return multiple_choice_questions"
   ]
  },
  {
   "cell_type": "code",
   "execution_count": 28,
   "id": "9dc0e0fa",
   "metadata": {
    "execution": {
     "iopub.execute_input": "2023-09-30T09:34:14.224782Z",
     "iopub.status.busy": "2023-09-30T09:34:14.224467Z",
     "iopub.status.idle": "2023-09-30T14:36:02.353351Z",
     "shell.execute_reply": "2023-09-30T14:36:02.351343Z"
    },
    "papermill": {
     "duration": 18108.136937,
     "end_time": "2023-09-30T14:36:02.355647",
     "exception": false,
     "start_time": "2023-09-30T09:34:14.218710",
     "status": "completed"
    },
    "tags": []
   },
   "outputs": [
    {
     "data": {
      "application/vnd.jupyter.widget-view+json": {
       "model_id": "e70f44e1c9f3464080901b1ca02ea22a",
       "version_major": 2,
       "version_minor": 0
      },
      "text/plain": [
       "  0%|          | 0/3000 [00:00<?, ?it/s]"
      ]
     },
     "metadata": {},
     "output_type": "display_data"
    }
   ],
   "source": [
    "multi_choice_questions = gather_multiple_choice_question_dataset(doc_ids=doc_ids,\n",
    "                                                                 texts=texts, \n",
    "                                                                 text_splitter=text_splitter, \n",
    "                                                                 q_num=1,\n",
    "                                                                 max_attempts=1)"
   ]
  },
  {
   "cell_type": "code",
   "execution_count": 29,
   "id": "0a098a7c",
   "metadata": {
    "execution": {
     "iopub.execute_input": "2023-09-30T14:36:02.369660Z",
     "iopub.status.busy": "2023-09-30T14:36:02.369334Z",
     "iopub.status.idle": "2023-09-30T14:36:02.388738Z",
     "shell.execute_reply": "2023-09-30T14:36:02.387362Z"
    },
    "papermill": {
     "duration": 0.030047,
     "end_time": "2023-09-30T14:36:02.391738",
     "exception": false,
     "start_time": "2023-09-30T14:36:02.361691",
     "status": "completed"
    },
    "tags": []
   },
   "outputs": [],
   "source": [
    "q_df = pd.DataFrame(multi_choice_questions)"
   ]
  },
  {
   "cell_type": "code",
   "execution_count": 30,
   "id": "4230086f",
   "metadata": {
    "execution": {
     "iopub.execute_input": "2023-09-30T14:36:02.404553Z",
     "iopub.status.busy": "2023-09-30T14:36:02.404234Z",
     "iopub.status.idle": "2023-09-30T14:36:02.416966Z",
     "shell.execute_reply": "2023-09-30T14:36:02.415875Z"
    },
    "papermill": {
     "duration": 0.020932,
     "end_time": "2023-09-30T14:36:02.418628",
     "exception": false,
     "start_time": "2023-09-30T14:36:02.397696",
     "status": "completed"
    },
    "tags": []
   },
   "outputs": [
    {
     "data": {
      "text/html": [
       "<div>\n",
       "<style scoped>\n",
       "    .dataframe tbody tr th:only-of-type {\n",
       "        vertical-align: middle;\n",
       "    }\n",
       "\n",
       "    .dataframe tbody tr th {\n",
       "        vertical-align: top;\n",
       "    }\n",
       "\n",
       "    .dataframe thead th {\n",
       "        text-align: right;\n",
       "    }\n",
       "</style>\n",
       "<table border=\"1\" class=\"dataframe\">\n",
       "  <thead>\n",
       "    <tr style=\"text-align: right;\">\n",
       "      <th></th>\n",
       "      <th>prompt</th>\n",
       "      <th>A</th>\n",
       "      <th>B</th>\n",
       "      <th>C</th>\n",
       "      <th>D</th>\n",
       "      <th>E</th>\n",
       "      <th>answer</th>\n",
       "      <th>doc_id</th>\n",
       "    </tr>\n",
       "  </thead>\n",
       "  <tbody>\n",
       "    <tr>\n",
       "      <th>0</th>\n",
       "      <td>What is the log sum inequality used for?</td>\n",
       "      <td>Proving theorems in mathematics</td>\n",
       "      <td>Analyzing data in information theory</td>\n",
       "      <td>Solving optimization problems in computer science</td>\n",
       "      <td>Predicting outcomes in statistical analysis</td>\n",
       "      <td>Exploring quantum mechanics principles</td>\n",
       "      <td>B</td>\n",
       "      <td>1103246</td>\n",
       "    </tr>\n",
       "    <tr>\n",
       "      <th>1</th>\n",
       "      <td>Which field of study benefits from the log sum...</td>\n",
       "      <td>Economics</td>\n",
       "      <td>Computer science</td>\n",
       "      <td>Biology</td>\n",
       "      <td>Physics</td>\n",
       "      <td>Psychology</td>\n",
       "      <td>B</td>\n",
       "      <td>1103246</td>\n",
       "    </tr>\n",
       "    <tr>\n",
       "      <th>2</th>\n",
       "      <td>How is the log sum inequality used in informat...</td>\n",
       "      <td>To calculate the entropy of a random variable</td>\n",
       "      <td>To analyze the capacity of a communication cha...</td>\n",
       "      <td>To measure the amount of information in a message</td>\n",
       "      <td>To quantify the error in a data transmission</td>\n",
       "      <td>To estimate the probability of an event</td>\n",
       "      <td>B</td>\n",
       "      <td>1103246</td>\n",
       "    </tr>\n",
       "    <tr>\n",
       "      <th>3</th>\n",
       "      <td>What does the log sum inequality help prove in...</td>\n",
       "      <td>The existence of error-correcting codes</td>\n",
       "      <td>The optimality of certain coding schemes</td>\n",
       "      <td>The convergence of iterative decoding algorithms</td>\n",
       "      <td>The speed of data transmission in wireless net...</td>\n",
       "      <td>The security of cryptographic protocols</td>\n",
       "      <td>B</td>\n",
       "      <td>1103246</td>\n",
       "    </tr>\n",
       "    <tr>\n",
       "      <th>4</th>\n",
       "      <td>In what context is the log sum inequality comm...</td>\n",
       "      <td>Signal processing</td>\n",
       "      <td>Machine learning</td>\n",
       "      <td>Game theory</td>\n",
       "      <td>Image recognition</td>\n",
       "      <td>Database management</td>\n",
       "      <td>A</td>\n",
       "      <td>1103246</td>\n",
       "    </tr>\n",
       "  </tbody>\n",
       "</table>\n",
       "</div>"
      ],
      "text/plain": [
       "                                              prompt  \\\n",
       "0           What is the log sum inequality used for?   \n",
       "1  Which field of study benefits from the log sum...   \n",
       "2  How is the log sum inequality used in informat...   \n",
       "3  What does the log sum inequality help prove in...   \n",
       "4  In what context is the log sum inequality comm...   \n",
       "\n",
       "                                               A  \\\n",
       "0                Proving theorems in mathematics   \n",
       "1                                      Economics   \n",
       "2  To calculate the entropy of a random variable   \n",
       "3        The existence of error-correcting codes   \n",
       "4                              Signal processing   \n",
       "\n",
       "                                                   B  \\\n",
       "0               Analyzing data in information theory   \n",
       "1                                   Computer science   \n",
       "2  To analyze the capacity of a communication cha...   \n",
       "3           The optimality of certain coding schemes   \n",
       "4                                   Machine learning   \n",
       "\n",
       "                                                   C  \\\n",
       "0  Solving optimization problems in computer science   \n",
       "1                                            Biology   \n",
       "2  To measure the amount of information in a message   \n",
       "3   The convergence of iterative decoding algorithms   \n",
       "4                                        Game theory   \n",
       "\n",
       "                                                   D  \\\n",
       "0        Predicting outcomes in statistical analysis   \n",
       "1                                            Physics   \n",
       "2       To quantify the error in a data transmission   \n",
       "3  The speed of data transmission in wireless net...   \n",
       "4                                  Image recognition   \n",
       "\n",
       "                                         E answer   doc_id  \n",
       "0   Exploring quantum mechanics principles      B  1103246  \n",
       "1                               Psychology      B  1103246  \n",
       "2  To estimate the probability of an event      B  1103246  \n",
       "3  The security of cryptographic protocols      B  1103246  \n",
       "4                      Database management      A  1103246  "
      ]
     },
     "execution_count": 30,
     "metadata": {},
     "output_type": "execute_result"
    }
   ],
   "source": [
    "q_df.head()"
   ]
  },
  {
   "cell_type": "code",
   "execution_count": 31,
   "id": "d335cd64",
   "metadata": {
    "execution": {
     "iopub.execute_input": "2023-09-30T14:36:02.431181Z",
     "iopub.status.busy": "2023-09-30T14:36:02.430827Z",
     "iopub.status.idle": "2023-09-30T14:36:02.436001Z",
     "shell.execute_reply": "2023-09-30T14:36:02.435118Z"
    },
    "papermill": {
     "duration": 0.014236,
     "end_time": "2023-09-30T14:36:02.438367",
     "exception": false,
     "start_time": "2023-09-30T14:36:02.424131",
     "status": "completed"
    },
    "tags": []
   },
   "outputs": [
    {
     "data": {
      "text/plain": [
       "(5466, 8)"
      ]
     },
     "execution_count": 31,
     "metadata": {},
     "output_type": "execute_result"
    }
   ],
   "source": [
    "q_df.shape"
   ]
  },
  {
   "cell_type": "code",
   "execution_count": 32,
   "id": "ea6f9a67",
   "metadata": {
    "execution": {
     "iopub.execute_input": "2023-09-30T14:36:02.451846Z",
     "iopub.status.busy": "2023-09-30T14:36:02.451562Z",
     "iopub.status.idle": "2023-09-30T14:36:02.526532Z",
     "shell.execute_reply": "2023-09-30T14:36:02.524967Z"
    },
    "papermill": {
     "duration": 0.084375,
     "end_time": "2023-09-30T14:36:02.528861",
     "exception": false,
     "start_time": "2023-09-30T14:36:02.444486",
     "status": "completed"
    },
    "tags": []
   },
   "outputs": [],
   "source": [
    "q_df.to_csv(\"dataset_stem.csv\", index=False)"
   ]
  }
 ],
 "metadata": {
  "kernelspec": {
   "display_name": "Python 3 (ipykernel)",
   "language": "python",
   "name": "python3"
  },
  "language_info": {
   "codemirror_mode": {
    "name": "ipython",
    "version": 3
   },
   "file_extension": ".py",
   "mimetype": "text/x-python",
   "name": "python",
   "nbconvert_exporter": "python",
   "pygments_lexer": "ipython3",
   "version": "3.7.15"
  },
  "papermill": {
   "default_parameters": {},
   "duration": 18168.718959,
   "end_time": "2023-09-30T14:36:04.382841",
   "environment_variables": {},
   "exception": null,
   "input_path": "__notebook__.ipynb",
   "output_path": "__notebook__.ipynb",
   "parameters": {},
   "start_time": "2023-09-30T09:33:15.663882",
   "version": "2.4.0"
  },
  "widgets": {
   "application/vnd.jupyter.widget-state+json": {
    "state": {
     "1065943397954b6fa8ffa0364386bef4": {
      "model_module": "@jupyter-widgets/controls",
      "model_module_version": "1.5.0",
      "model_name": "HTMLModel",
      "state": {
       "_dom_classes": [],
       "_model_module": "@jupyter-widgets/controls",
       "_model_module_version": "1.5.0",
       "_model_name": "HTMLModel",
       "_view_count": null,
       "_view_module": "@jupyter-widgets/controls",
       "_view_module_version": "1.5.0",
       "_view_name": "HTMLView",
       "description": "",
       "description_tooltip": null,
       "layout": "IPY_MODEL_e59d00f45be748b28fde0b9c78a7a8ba",
       "placeholder": "​",
       "style": "IPY_MODEL_d505911baed34e4aaa1e56362ef36071",
       "value": " 3000/3000 [5:01:48&lt;00:00,  2.84s/it]"
      }
     },
     "20d90f790927471f81c3f6b3b6f6c20c": {
      "model_module": "@jupyter-widgets/controls",
      "model_module_version": "1.5.0",
      "model_name": "HTMLModel",
      "state": {
       "_dom_classes": [],
       "_model_module": "@jupyter-widgets/controls",
       "_model_module_version": "1.5.0",
       "_model_name": "HTMLModel",
       "_view_count": null,
       "_view_module": "@jupyter-widgets/controls",
       "_view_module_version": "1.5.0",
       "_view_name": "HTMLView",
       "description": "",
       "description_tooltip": null,
       "layout": "IPY_MODEL_eecccd452dea4086a6d554b6de7df172",
       "placeholder": "​",
       "style": "IPY_MODEL_2f7bb6ec446b4ee8906d655df369edf0",
       "value": "100%"
      }
     },
     "2f7bb6ec446b4ee8906d655df369edf0": {
      "model_module": "@jupyter-widgets/controls",
      "model_module_version": "1.5.0",
      "model_name": "DescriptionStyleModel",
      "state": {
       "_model_module": "@jupyter-widgets/controls",
       "_model_module_version": "1.5.0",
       "_model_name": "DescriptionStyleModel",
       "_view_count": null,
       "_view_module": "@jupyter-widgets/base",
       "_view_module_version": "1.2.0",
       "_view_name": "StyleView",
       "description_width": ""
      }
     },
     "568f4336680f4ead9ff4baed3f0d483f": {
      "model_module": "@jupyter-widgets/controls",
      "model_module_version": "1.5.0",
      "model_name": "ProgressStyleModel",
      "state": {
       "_model_module": "@jupyter-widgets/controls",
       "_model_module_version": "1.5.0",
       "_model_name": "ProgressStyleModel",
       "_view_count": null,
       "_view_module": "@jupyter-widgets/base",
       "_view_module_version": "1.2.0",
       "_view_name": "StyleView",
       "bar_color": null,
       "description_width": ""
      }
     },
     "88d38085b9cb478d9fe9878a801adae5": {
      "model_module": "@jupyter-widgets/base",
      "model_module_version": "1.2.0",
      "model_name": "LayoutModel",
      "state": {
       "_model_module": "@jupyter-widgets/base",
       "_model_module_version": "1.2.0",
       "_model_name": "LayoutModel",
       "_view_count": null,
       "_view_module": "@jupyter-widgets/base",
       "_view_module_version": "1.2.0",
       "_view_name": "LayoutView",
       "align_content": null,
       "align_items": null,
       "align_self": null,
       "border": null,
       "bottom": null,
       "display": null,
       "flex": null,
       "flex_flow": null,
       "grid_area": null,
       "grid_auto_columns": null,
       "grid_auto_flow": null,
       "grid_auto_rows": null,
       "grid_column": null,
       "grid_gap": null,
       "grid_row": null,
       "grid_template_areas": null,
       "grid_template_columns": null,
       "grid_template_rows": null,
       "height": null,
       "justify_content": null,
       "justify_items": null,
       "left": null,
       "margin": null,
       "max_height": null,
       "max_width": null,
       "min_height": null,
       "min_width": null,
       "object_fit": null,
       "object_position": null,
       "order": null,
       "overflow": null,
       "overflow_x": null,
       "overflow_y": null,
       "padding": null,
       "right": null,
       "top": null,
       "visibility": null,
       "width": null
      }
     },
     "c031d5c3011b45c393f48096337c2121": {
      "model_module": "@jupyter-widgets/controls",
      "model_module_version": "1.5.0",
      "model_name": "FloatProgressModel",
      "state": {
       "_dom_classes": [],
       "_model_module": "@jupyter-widgets/controls",
       "_model_module_version": "1.5.0",
       "_model_name": "FloatProgressModel",
       "_view_count": null,
       "_view_module": "@jupyter-widgets/controls",
       "_view_module_version": "1.5.0",
       "_view_name": "ProgressView",
       "bar_style": "success",
       "description": "",
       "description_tooltip": null,
       "layout": "IPY_MODEL_cec5b14bd901431e921fdf943cc108eb",
       "max": 3000,
       "min": 0,
       "orientation": "horizontal",
       "style": "IPY_MODEL_568f4336680f4ead9ff4baed3f0d483f",
       "value": 3000
      }
     },
     "cec5b14bd901431e921fdf943cc108eb": {
      "model_module": "@jupyter-widgets/base",
      "model_module_version": "1.2.0",
      "model_name": "LayoutModel",
      "state": {
       "_model_module": "@jupyter-widgets/base",
       "_model_module_version": "1.2.0",
       "_model_name": "LayoutModel",
       "_view_count": null,
       "_view_module": "@jupyter-widgets/base",
       "_view_module_version": "1.2.0",
       "_view_name": "LayoutView",
       "align_content": null,
       "align_items": null,
       "align_self": null,
       "border": null,
       "bottom": null,
       "display": null,
       "flex": null,
       "flex_flow": null,
       "grid_area": null,
       "grid_auto_columns": null,
       "grid_auto_flow": null,
       "grid_auto_rows": null,
       "grid_column": null,
       "grid_gap": null,
       "grid_row": null,
       "grid_template_areas": null,
       "grid_template_columns": null,
       "grid_template_rows": null,
       "height": null,
       "justify_content": null,
       "justify_items": null,
       "left": null,
       "margin": null,
       "max_height": null,
       "max_width": null,
       "min_height": null,
       "min_width": null,
       "object_fit": null,
       "object_position": null,
       "order": null,
       "overflow": null,
       "overflow_x": null,
       "overflow_y": null,
       "padding": null,
       "right": null,
       "top": null,
       "visibility": null,
       "width": null
      }
     },
     "d505911baed34e4aaa1e56362ef36071": {
      "model_module": "@jupyter-widgets/controls",
      "model_module_version": "1.5.0",
      "model_name": "DescriptionStyleModel",
      "state": {
       "_model_module": "@jupyter-widgets/controls",
       "_model_module_version": "1.5.0",
       "_model_name": "DescriptionStyleModel",
       "_view_count": null,
       "_view_module": "@jupyter-widgets/base",
       "_view_module_version": "1.2.0",
       "_view_name": "StyleView",
       "description_width": ""
      }
     },
     "e59d00f45be748b28fde0b9c78a7a8ba": {
      "model_module": "@jupyter-widgets/base",
      "model_module_version": "1.2.0",
      "model_name": "LayoutModel",
      "state": {
       "_model_module": "@jupyter-widgets/base",
       "_model_module_version": "1.2.0",
       "_model_name": "LayoutModel",
       "_view_count": null,
       "_view_module": "@jupyter-widgets/base",
       "_view_module_version": "1.2.0",
       "_view_name": "LayoutView",
       "align_content": null,
       "align_items": null,
       "align_self": null,
       "border": null,
       "bottom": null,
       "display": null,
       "flex": null,
       "flex_flow": null,
       "grid_area": null,
       "grid_auto_columns": null,
       "grid_auto_flow": null,
       "grid_auto_rows": null,
       "grid_column": null,
       "grid_gap": null,
       "grid_row": null,
       "grid_template_areas": null,
       "grid_template_columns": null,
       "grid_template_rows": null,
       "height": null,
       "justify_content": null,
       "justify_items": null,
       "left": null,
       "margin": null,
       "max_height": null,
       "max_width": null,
       "min_height": null,
       "min_width": null,
       "object_fit": null,
       "object_position": null,
       "order": null,
       "overflow": null,
       "overflow_x": null,
       "overflow_y": null,
       "padding": null,
       "right": null,
       "top": null,
       "visibility": null,
       "width": null
      }
     },
     "e70f44e1c9f3464080901b1ca02ea22a": {
      "model_module": "@jupyter-widgets/controls",
      "model_module_version": "1.5.0",
      "model_name": "HBoxModel",
      "state": {
       "_dom_classes": [],
       "_model_module": "@jupyter-widgets/controls",
       "_model_module_version": "1.5.0",
       "_model_name": "HBoxModel",
       "_view_count": null,
       "_view_module": "@jupyter-widgets/controls",
       "_view_module_version": "1.5.0",
       "_view_name": "HBoxView",
       "box_style": "",
       "children": [
        "IPY_MODEL_20d90f790927471f81c3f6b3b6f6c20c",
        "IPY_MODEL_c031d5c3011b45c393f48096337c2121",
        "IPY_MODEL_1065943397954b6fa8ffa0364386bef4"
       ],
       "layout": "IPY_MODEL_88d38085b9cb478d9fe9878a801adae5"
      }
     },
     "eecccd452dea4086a6d554b6de7df172": {
      "model_module": "@jupyter-widgets/base",
      "model_module_version": "1.2.0",
      "model_name": "LayoutModel",
      "state": {
       "_model_module": "@jupyter-widgets/base",
       "_model_module_version": "1.2.0",
       "_model_name": "LayoutModel",
       "_view_count": null,
       "_view_module": "@jupyter-widgets/base",
       "_view_module_version": "1.2.0",
       "_view_name": "LayoutView",
       "align_content": null,
       "align_items": null,
       "align_self": null,
       "border": null,
       "bottom": null,
       "display": null,
       "flex": null,
       "flex_flow": null,
       "grid_area": null,
       "grid_auto_columns": null,
       "grid_auto_flow": null,
       "grid_auto_rows": null,
       "grid_column": null,
       "grid_gap": null,
       "grid_row": null,
       "grid_template_areas": null,
       "grid_template_columns": null,
       "grid_template_rows": null,
       "height": null,
       "justify_content": null,
       "justify_items": null,
       "left": null,
       "margin": null,
       "max_height": null,
       "max_width": null,
       "min_height": null,
       "min_width": null,
       "object_fit": null,
       "object_position": null,
       "order": null,
       "overflow": null,
       "overflow_x": null,
       "overflow_y": null,
       "padding": null,
       "right": null,
       "top": null,
       "visibility": null,
       "width": null
      }
     }
    },
    "version_major": 2,
    "version_minor": 0
   }
  }
 },
 "nbformat": 4,
 "nbformat_minor": 5
}
